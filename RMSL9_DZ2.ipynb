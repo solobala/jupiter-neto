{
 "cells": [
  {
   "attachments": {},
   "cell_type": "markdown",
   "metadata": {},
   "source": [
    "Домашнее задание по теме «Рекомендации на основе содержания»\n",
    "Пакет SURPRISE:\n",
    "\n",
    "используйте данные MovieLens 1M,\n",
    "можно использовать любые модели из пакета,\n",
    "получите RMSE на тестовом сете 0,87 и ниже.\n",
    "\n",
    "* Загружаем данные и собираем датасет(фильм-рейтинг)\n",
    "* Используем средства SURPRISE для перевода pandas датафрейма в нужный формат\n",
    "* Отбираем алгоритм/алгоритмы из SURPRISE, которые будем обучать\n",
    "* В процессе обучения выполняем проверку на 5 фолдах, оцениваем RMSE\n",
    "* Отбираем лучший алгоритм, при необходимости тьюним его\n",
    "https://surpriselib.com/\n",
    "\n",
    "Алгоритмы https://surprise.readthedocs.io/en/stable/prediction_algorithms_package.html"
   ]
  },
  {
   "attachments": {},
   "cell_type": "markdown",
   "metadata": {},
   "source": [
    "0. Загрузка данных и импорт библиотек"
   ]
  },
  {
   "cell_type": "code",
   "execution_count": null,
   "metadata": {},
   "outputs": [],
   "source": [
    "%pip install scikit-surprise"
   ]
  },
  {
   "cell_type": "code",
   "execution_count": 23,
   "metadata": {},
   "outputs": [],
   "source": [
    "import numpy as np\n",
    "import pandas as pd\n",
    "import zipfile\n",
    "from surprise import Dataset, Trainset\n",
    "from surprise.accuracy import rmse\n",
    "from surprise.similarities import cosine, msd, pearson, pearson_baseline\n",
    "from surprise import Reader\n",
    "from surprise.prediction_algorithms.algo_base import AlgoBase \n",
    "from surprise.prediction_algorithms.baseline_only import BaselineOnly\n",
    "from surprise.prediction_algorithms.knns import KNNWithMeans,\\\n",
    "KNNWithZScore, KNNBaseline\n",
    "from surprise.model_selection.search import GridSearchCV\n",
    "from surprise.prediction_algorithms.matrix_factorization import SVD, SVDpp, NMF\n",
    "from surprise.model_selection import train_test_split\n",
    "from surprise.model_selection.split import KFold\n",
    "from surprise.model_selection.validation import cross_validate\n",
    "from surprise import accuracy\n",
    "from sklearn.metrics import mean_squared_error"
   ]
  },
  {
   "attachments": {},
   "cell_type": "markdown",
   "metadata": {},
   "source": [
    "1. Пользовательские функции"
   ]
  },
  {
   "cell_type": "code",
   "execution_count": 31,
   "metadata": {},
   "outputs": [],
   "source": [
    "def make_dataset() -> Dataset:\n",
    "  \"\"\"\n",
    "  Prepare dataset for Surprise\n",
    "  \"\"\"\n",
    "  # load dataset\n",
    "  !wget  \"https://files.grouplens.org/datasets/movielens/ml-latest-small.zip\"  --no-check-certificate\n",
    "  # unzip data from zip\n",
    "  with zipfile.ZipFile('ml-latest-small.zip', 'r') as zip_ref:\n",
    "    zip_ref.extractall('data')\n",
    "  # read tables\n",
    "  movies = pd.read_csv('data\\\\ml-latest-small\\\\movies.csv')\n",
    "  ratings = pd.read_csv('data\\\\ml-latest-small\\\\ratings.csv')\n",
    "  ratings.drop(columns=['timestamp'], inplace=True)\n",
    "  # join tables\n",
    "  df = ratings.join(movies.set_index('movieId'), on='movieId', how='left')\n",
    "  dataset = pd.DataFrame({\n",
    "    'uid': df.userId,\n",
    "    'iid': df.title,\n",
    "    'rating': df.rating\n",
    "})\n",
    "  min = dataset.rating.min()\n",
    "  max = dataset.rating.max()\n",
    "  reader = Reader(rating_scale=(min, max)) \n",
    "  data = Dataset.load_from_df(dataset, reader)\n",
    "  return data"
   ]
  },
  {
   "cell_type": "code",
   "execution_count": 5,
   "metadata": {},
   "outputs": [],
   "source": [
    "def get_algo(algo_name) -> AlgoBase():\n",
    "  \"\"\"\n",
    "  Make a dictionary with surprise models\n",
    "  Args:\n",
    "    algo_name:str - a name of surprise model\n",
    "  Return:\n",
    "    algos[algo_name]: AlgoBase - choosed model \n",
    "  \"\"\"\n",
    "  algos = dict()\n",
    "  algos['BaselineOnly'] = BaselineOnly()\n",
    "  algos['KNNWithMeans'] = KNNWithMeans()\n",
    "  algos['KNNWithZScore'] = KNNWithZScore()\n",
    "  algos['KNNBaseline'] = KNNBaseline()\n",
    "  algos['SVD'] = SVD()\n",
    "  algos['SVDpp'] = SVDpp()\n",
    "  algos['NMF'] = NMF()\n",
    "  return algos[algo_name]"
   ]
  },
  {
   "cell_type": "code",
   "execution_count": 6,
   "metadata": {},
   "outputs": [],
   "source": [
    "def build_features(data: Dataset, split_ratio: float, random_seed: int) -> tuple[Trainset, Trainset, Trainset]:\n",
    "  \"\"\"Make datasets for fit, predict, cross_validate model\n",
    "  Args:\n",
    "    data: Dataset - whole dataset\n",
    "  Return:\n",
    "    trainset: Trainset,\n",
    "    testset: Trainset\n",
    "    traintestfull: Trainset\n",
    "  \"\"\"\n",
    "  trainset, testset = train_test_split(data, test_size=split_ratio, random_state=random_seed)\n",
    "  traintestfull = data.build_full_trainset()\n",
    "  return  trainset, testset, traintestfull"
   ]
  },
  {
   "cell_type": "code",
   "execution_count": 7,
   "metadata": {},
   "outputs": [],
   "source": [
    "def train_model( trainset: Trainset, testest: Trainset, algo_name: str) -> np.float64:\n",
    "  \"\"\"\n",
    "  Get algoritm by its name,\n",
    "  fit model, predict on test dataset\n",
    "  & return rmse\n",
    "  Will be used for primary algoritm's selecton\n",
    "  Args:\n",
    "    trainset: Trainset - train dataset\n",
    "    algo_name: str\n",
    "  Return: rmse: np.float64\n",
    "  \"\"\"\n",
    "  # get algoritm\n",
    "  algo = get_algo(algo_name)\n",
    "  # fit algoritm\n",
    "  algo.fit(trainset)\n",
    "  predictions = algo.test(testset)\n",
    "  return accuracy.rmse(predictions, verbose=False)"
   ]
  },
  {
   "cell_type": "code",
   "execution_count": 32,
   "metadata": {},
   "outputs": [
    {
     "name": "stderr",
     "output_type": "stream",
     "text": [
      "--2023-07-06 19:11:10--  https://files.grouplens.org/datasets/movielens/ml-latest-small.zip\n",
      "Resolving files.grouplens.org (files.grouplens.org)... 128.101.65.152\n",
      "Connecting to files.grouplens.org (files.grouplens.org)|128.101.65.152|:443... connected.\n",
      "WARNING: cannot verify files.grouplens.org's certificate, issued by 'CN=R3,O=Let\\'s Encrypt,C=US':\n",
      "  Unable to locally verify the issuer's authority.\n",
      "HTTP request sent, awaiting response... 200 OK\n",
      "Length: 978202 (955K) [application/zip]\n",
      "Saving to: 'ml-latest-small.zip'\n",
      "\n",
      "     0K .......... .......... .......... .......... ..........  5%  144K 6s\n",
      "    50K .......... .......... .......... .......... .......... 10%  302K 4s\n",
      "   100K .......... .......... .......... .......... .......... 15% 3.60M 3s\n",
      "   150K .......... .......... .......... .......... .......... 20%  326K 3s\n",
      "   200K .......... .......... .......... .......... .......... 26% 5.36M 2s\n",
      "   250K .......... .......... .......... .......... .......... 31% 3.95M 2s\n",
      "   300K .......... .......... .......... .......... .......... 36% 10.5M 1s\n",
      "   350K .......... .......... .......... .......... .......... 41%  407K 1s\n",
      "   400K .......... .......... .......... .......... .......... 47% 1.38M 1s\n",
      "   450K .......... .......... .......... .......... .......... 52% 4.42M 1s\n",
      "   500K .......... .......... .......... .......... .......... 57% 19.0M 1s\n",
      "   550K .......... .......... .......... .......... .......... 62% 11.6M 1s\n",
      "   600K .......... .......... .......... .......... .......... 68% 8.11M 0s\n",
      "   650K .......... .......... .......... .......... .......... 73% 15.0M 0s\n",
      "   700K .......... .......... .......... .......... .......... 78% 10.4M 0s\n",
      "   750K .......... .......... .......... .......... .......... 83%  430K 0s\n",
      "   800K .......... .......... .......... .......... .......... 88% 6.35M 0s\n",
      "   850K .......... .......... .......... .......... .......... 94% 2.27M 0s\n",
      "   900K .......... .......... .......... .......... .......... 99% 8.53M 0s\n",
      "   950K .....                                                 100% 9.84M=1.0s\n",
      "\n",
      "2023-07-06 19:11:12 (911 KB/s) - 'ml-latest-small.zip' saved [978202/978202]\n",
      "\n"
     ]
    }
   ],
   "source": [
    "data = make_dataset()"
   ]
  },
  {
   "cell_type": "code",
   "execution_count": 33,
   "metadata": {},
   "outputs": [],
   "source": [
    "trainset, testset, trainsetfull = build_features(data, 0.15, 42)"
   ]
  },
  {
   "cell_type": "code",
   "execution_count": 34,
   "metadata": {},
   "outputs": [],
   "source": [
    "# to save list of raw & inner item's id's\n",
    "trainset_iids = list(trainset.all_items()) # It is moviesId\n",
    "iid_converter = lambda x: trainset.to_raw_iid(x)\n",
    "trainset_raw_iids = list(map(iid_converter, trainset_iids)) # it is movies titles"
   ]
  },
  {
   "cell_type": "code",
   "execution_count": 35,
   "metadata": {},
   "outputs": [],
   "source": [
    "algos = [\n",
    " 'BaselineOnly',\n",
    " 'KNNWithMeans',         \n",
    " 'KNNWithZScore',\n",
    " 'KNNBaseline',\n",
    " 'SVD',\n",
    " 'SVDpp',\n",
    " 'NMF'\n",
    "]"
   ]
  },
  {
   "cell_type": "code",
   "execution_count": 36,
   "metadata": {},
   "outputs": [
    {
     "name": "stdout",
     "output_type": "stream",
     "text": [
      "Estimating biases using als...\n",
      "Computing the msd similarity matrix...\n",
      "Done computing similarity matrix.\n",
      "Computing the msd similarity matrix...\n",
      "Done computing similarity matrix.\n",
      "Estimating biases using als...\n",
      "Computing the msd similarity matrix...\n",
      "Done computing similarity matrix.\n"
     ]
    }
   ],
   "source": [
    "results = dict()\n",
    "for algo in algos:\n",
    "  results[algo] = train_model(trainset, algo)"
   ]
  },
  {
   "cell_type": "code",
   "execution_count": 37,
   "metadata": {},
   "outputs": [
    {
     "data": {
      "text/plain": [
       "{'BaselineOnly': 0.8824900429621578,\n",
       " 'KNNWithMeans': 0.9041790317046055,\n",
       " 'KNNWithZScore': 0.9024747395939957,\n",
       " 'KNNBaseline': 0.8828909395729079,\n",
       " 'SVD': 0.8854328980760703,\n",
       " 'SVDpp': 0.8703005899674594,\n",
       " 'NMF': 0.9329089587256932}"
      ]
     },
     "execution_count": 37,
     "metadata": {},
     "output_type": "execute_result"
    }
   ],
   "source": [
    "results"
   ]
  },
  {
   "attachments": {},
   "cell_type": "markdown",
   "metadata": {},
   "source": [
    "Валидация на отложенном датасете помогает выбрать наиболее перспективные для дальнейшего изучения алгоритмы. ВЫберем KNNBaseline,SVD и SVDpp. Выполним для этих алгоритмов кросс-валидацию с параметрами по умолчанию"
   ]
  },
  {
   "cell_type": "code",
   "execution_count": 95,
   "metadata": {},
   "outputs": [],
   "source": [
    "results=dict()"
   ]
  },
  {
   "attachments": {},
   "cell_type": "markdown",
   "metadata": {},
   "source": [
    "Для SVD"
   ]
  },
  {
   "cell_type": "code",
   "execution_count": 101,
   "metadata": {},
   "outputs": [
    {
     "data": {
      "text/plain": [
       "0.8724466491164524"
      ]
     },
     "execution_count": 101,
     "metadata": {},
     "output_type": "execute_result"
    }
   ],
   "source": [
    "algo=SVD()\n",
    "cv_results = cross_validate(algo=algo, data=data, measures=['RMSE'], cv=5, return_train_measures=True, verbose=False)\n",
    "cv_results['test_rmse'].mean()"
   ]
  },
  {
   "cell_type": "code",
   "execution_count": 102,
   "metadata": {},
   "outputs": [
    {
     "data": {
      "text/plain": [
       "0.8724466491164524"
      ]
     },
     "execution_count": 102,
     "metadata": {},
     "output_type": "execute_result"
    }
   ],
   "source": [
    "results['SVD'] = cv_results['test_rmse'].mean()\n",
    "results['SVD'] "
   ]
  },
  {
   "cell_type": "code",
   "execution_count": 40,
   "metadata": {},
   "outputs": [
    {
     "name": "stdout",
     "output_type": "stream",
     "text": [
      "RMSE: 0.8745\n",
      "RMSE: 0.8686\n",
      "RMSE: 0.8860\n",
      "RMSE: 0.8775\n",
      "RMSE: 0.8657\n"
     ]
    }
   ],
   "source": [
    "kf = KFold(n_splits=5)\n",
    "\n",
    "algo = SVD()\n",
    "\n",
    "for trainset, testset in kf.split(data):\n",
    "\n",
    "    # train and test algorithm.\n",
    "    algo.fit(trainset)\n",
    "    predictions = algo.test(testset)\n",
    "\n",
    "    # Compute and print Root Mean Squared Error\n",
    "    accuracy.rmse(predictions, verbose=True)"
   ]
  },
  {
   "cell_type": "code",
   "execution_count": null,
   "metadata": {},
   "outputs": [
    {
     "name": "stdout",
     "output_type": "stream",
     "text": [
      "0.8765257814053132\n",
      "{'n_epochs': 61, 'lr_all': 0.006, 'reg_all': 0.4}\n"
     ]
    }
   ],
   "source": [
    "param_grid = {\"n_epochs\": [61, 100], \"lr_all\": [0.006, 0.01], \"reg_all\": [0.4]}\n",
    "gs = GridSearchCV(SVD, param_grid, measures=[\"rmse\"], cv=5)\n",
    "\n",
    "gs.fit(data)\n",
    "\n",
    "# best RMSE score\n",
    "print(gs.best_score[\"rmse\"])\n",
    "\n",
    "# combination of parameters that gave the best RMSE score\n",
    "print(gs.best_params[\"rmse\"])"
   ]
  },
  {
   "attachments": {},
   "cell_type": "markdown",
   "metadata": {},
   "source": [
    "для KNNBaseline"
   ]
  },
  {
   "cell_type": "code",
   "execution_count": 98,
   "metadata": {},
   "outputs": [
    {
     "name": "stdout",
     "output_type": "stream",
     "text": [
      "Estimating biases using als...\n",
      "Computing the msd similarity matrix...\n",
      "Done computing similarity matrix.\n",
      "Estimating biases using als...\n",
      "Computing the msd similarity matrix...\n",
      "Done computing similarity matrix.\n",
      "Estimating biases using als...\n",
      "Computing the msd similarity matrix...\n",
      "Done computing similarity matrix.\n",
      "Estimating biases using als...\n",
      "Computing the msd similarity matrix...\n",
      "Done computing similarity matrix.\n",
      "Estimating biases using als...\n",
      "Computing the msd similarity matrix...\n",
      "Done computing similarity matrix.\n"
     ]
    }
   ],
   "source": [
    "algo=KNNBaseline()\n",
    "cv_results = cross_validate(algo=algo, data=data, measures=['RMSE'], cv=5, return_train_measures=True, verbose=False)\n",
    "cv_results['test_rmse'].mean()\n",
    "results['KNNBaseline'] = cv_results['test_rmse'].mean()"
   ]
  },
  {
   "cell_type": "code",
   "execution_count": 99,
   "metadata": {},
   "outputs": [
    {
     "name": "stdout",
     "output_type": "stream",
     "text": [
      "Estimating biases using als...\n",
      "Computing the msd similarity matrix...\n",
      "Done computing similarity matrix.\n",
      "RMSE: 0.8863\n",
      "Estimating biases using als...\n",
      "Computing the msd similarity matrix...\n",
      "Done computing similarity matrix.\n",
      "RMSE: 0.8684\n",
      "Estimating biases using als...\n",
      "Computing the msd similarity matrix...\n",
      "Done computing similarity matrix.\n",
      "RMSE: 0.8709\n",
      "Estimating biases using als...\n",
      "Computing the msd similarity matrix...\n",
      "Done computing similarity matrix.\n",
      "RMSE: 0.8738\n",
      "Estimating biases using als...\n",
      "Computing the msd similarity matrix...\n",
      "Done computing similarity matrix.\n",
      "RMSE: 0.8778\n"
     ]
    }
   ],
   "source": [
    "kf = KFold(n_splits=5)\n",
    "\n",
    "algo = KNNBaseline()\n",
    "\n",
    "for trainset, testset in kf.split(data):\n",
    "\n",
    "    # train and test algorithm.\n",
    "    algo.fit(trainset)\n",
    "    predictions = algo.test(testset)\n",
    "\n",
    "    # Compute and print Root Mean Squared Error\n",
    "    accuracy.rmse(predictions, verbose=True)"
   ]
  },
  {
   "attachments": {},
   "cell_type": "markdown",
   "metadata": {},
   "source": [
    "Для SVDpp"
   ]
  },
  {
   "cell_type": "code",
   "execution_count": 97,
   "metadata": {},
   "outputs": [],
   "source": [
    "algo=SVDpp()\n",
    "cv_results = cross_validate(algo=algo, data=data, measures=['RMSE'], cv=5, return_train_measures=True, verbose=False)\n",
    "cv_results['test_rmse'].mean()\n",
    "results['SVDpp'] = cv_results['test_rmse'].mean()"
   ]
  },
  {
   "cell_type": "code",
   "execution_count": 104,
   "metadata": {},
   "outputs": [
    {
     "data": {
      "text/plain": [
       "0.8631228176464131"
      ]
     },
     "execution_count": 104,
     "metadata": {},
     "output_type": "execute_result"
    }
   ],
   "source": [
    "results['SVDpp']"
   ]
  },
  {
   "attachments": {},
   "cell_type": "markdown",
   "metadata": {},
   "source": [
    "Для алгоритма SVDpp уже достигнут требуемый результат при выполнении кросс-валидации на 5 фолдах: 0.8616685463384428 < 0.87. Оценим rmsе по фолдам"
   ]
  },
  {
   "cell_type": "code",
   "execution_count": 93,
   "metadata": {},
   "outputs": [
    {
     "name": "stdout",
     "output_type": "stream",
     "text": [
      "RMSE: 0.8689\n",
      "RMSE: 0.8542\n",
      "RMSE: 0.8590\n",
      "RMSE: 0.8630\n",
      "RMSE: 0.8585\n"
     ]
    }
   ],
   "source": [
    "kf = KFold(n_splits=5)\n",
    "\n",
    "algo = SVDpp()\n",
    "\n",
    "for trainset, testset in kf.split(data):\n",
    "\n",
    "    # train and test algorithm.\n",
    "    algo.fit(trainset)\n",
    "    predictions = algo.test(testset)\n",
    "\n",
    "    # Compute and print Root Mean Squared Error\n",
    "    accuracy.rmse(predictions, verbose=True)"
   ]
  },
  {
   "attachments": {},
   "cell_type": "markdown",
   "metadata": {},
   "source": [
    "На каждом фолде RMSE меньше заявленного порога. Попробуем еще улучшить модель и выполним настройку гиперпараметров"
   ]
  },
  {
   "cell_type": "code",
   "execution_count": 94,
   "metadata": {},
   "outputs": [
    {
     "name": "stdout",
     "output_type": "stream",
     "text": [
      " processing epoch 0\n",
      " processing epoch 1\n",
      " processing epoch 2\n",
      " processing epoch 3\n",
      " processing epoch 4\n",
      " processing epoch 5\n",
      " processing epoch 6\n",
      " processing epoch 7\n",
      " processing epoch 8\n",
      " processing epoch 9\n",
      " processing epoch 10\n",
      " processing epoch 11\n",
      " processing epoch 12\n",
      " processing epoch 13\n",
      " processing epoch 14\n",
      " processing epoch 15\n",
      " processing epoch 16\n",
      " processing epoch 17\n",
      " processing epoch 18\n",
      " processing epoch 19\n",
      " processing epoch 20\n",
      " processing epoch 21\n",
      " processing epoch 22\n",
      " processing epoch 23\n",
      " processing epoch 24\n",
      " processing epoch 25\n",
      " processing epoch 26\n",
      " processing epoch 27\n",
      " processing epoch 28\n",
      " processing epoch 29\n",
      " processing epoch 30\n",
      " processing epoch 31\n",
      " processing epoch 32\n",
      " processing epoch 33\n",
      " processing epoch 34\n",
      " processing epoch 35\n",
      " processing epoch 36\n",
      " processing epoch 37\n",
      " processing epoch 38\n",
      " processing epoch 39\n",
      " processing epoch 40\n",
      " processing epoch 41\n",
      " processing epoch 42\n",
      " processing epoch 43\n",
      " processing epoch 44\n",
      " processing epoch 45\n",
      " processing epoch 46\n",
      " processing epoch 47\n",
      " processing epoch 48\n",
      " processing epoch 49\n",
      " processing epoch 50\n",
      " processing epoch 51\n",
      " processing epoch 52\n",
      " processing epoch 53\n",
      " processing epoch 54\n",
      " processing epoch 55\n",
      " processing epoch 56\n",
      " processing epoch 57\n",
      " processing epoch 58\n",
      " processing epoch 59\n",
      " processing epoch 60\n",
      " processing epoch 61\n",
      " processing epoch 62\n",
      " processing epoch 63\n",
      " processing epoch 64\n",
      " processing epoch 65\n",
      " processing epoch 66\n",
      " processing epoch 67\n",
      " processing epoch 68\n",
      " processing epoch 69\n",
      " processing epoch 70\n",
      " processing epoch 71\n",
      " processing epoch 72\n",
      " processing epoch 73\n",
      " processing epoch 74\n",
      " processing epoch 75\n",
      " processing epoch 76\n",
      " processing epoch 77\n",
      " processing epoch 78\n",
      " processing epoch 79\n",
      " processing epoch 80\n",
      " processing epoch 81\n",
      " processing epoch 82\n",
      " processing epoch 83\n",
      " processing epoch 84\n",
      " processing epoch 85\n",
      " processing epoch 86\n",
      " processing epoch 87\n",
      " processing epoch 88\n",
      " processing epoch 89\n",
      " processing epoch 90\n",
      " processing epoch 91\n",
      " processing epoch 92\n",
      " processing epoch 93\n",
      " processing epoch 94\n",
      " processing epoch 0\n",
      " processing epoch 1\n",
      " processing epoch 2\n",
      " processing epoch 3\n",
      " processing epoch 4\n",
      " processing epoch 5\n",
      " processing epoch 6\n",
      " processing epoch 7\n",
      " processing epoch 8\n",
      " processing epoch 9\n",
      " processing epoch 10\n",
      " processing epoch 11\n",
      " processing epoch 12\n",
      " processing epoch 13\n",
      " processing epoch 14\n",
      " processing epoch 15\n",
      " processing epoch 16\n",
      " processing epoch 17\n",
      " processing epoch 18\n",
      " processing epoch 19\n",
      " processing epoch 20\n",
      " processing epoch 21\n",
      " processing epoch 22\n",
      " processing epoch 23\n",
      " processing epoch 24\n",
      " processing epoch 25\n",
      " processing epoch 26\n",
      " processing epoch 27\n",
      " processing epoch 28\n",
      " processing epoch 29\n",
      " processing epoch 30\n",
      " processing epoch 31\n",
      " processing epoch 32\n",
      " processing epoch 33\n",
      " processing epoch 34\n",
      " processing epoch 35\n",
      " processing epoch 36\n",
      " processing epoch 37\n",
      " processing epoch 38\n",
      " processing epoch 39\n",
      " processing epoch 40\n",
      " processing epoch 41\n",
      " processing epoch 42\n",
      " processing epoch 43\n",
      " processing epoch 44\n",
      " processing epoch 45\n",
      " processing epoch 46\n",
      " processing epoch 47\n",
      " processing epoch 48\n",
      " processing epoch 49\n",
      " processing epoch 50\n",
      " processing epoch 51\n",
      " processing epoch 52\n",
      " processing epoch 53\n",
      " processing epoch 54\n",
      " processing epoch 55\n",
      " processing epoch 56\n",
      " processing epoch 57\n",
      " processing epoch 58\n",
      " processing epoch 59\n",
      " processing epoch 60\n",
      " processing epoch 61\n",
      " processing epoch 62\n",
      " processing epoch 63\n",
      " processing epoch 64\n",
      " processing epoch 65\n",
      " processing epoch 66\n",
      " processing epoch 67\n",
      " processing epoch 68\n",
      " processing epoch 69\n",
      " processing epoch 70\n",
      " processing epoch 71\n",
      " processing epoch 72\n",
      " processing epoch 73\n",
      " processing epoch 74\n",
      " processing epoch 75\n",
      " processing epoch 76\n",
      " processing epoch 77\n",
      " processing epoch 78\n",
      " processing epoch 79\n",
      " processing epoch 80\n",
      " processing epoch 81\n",
      " processing epoch 82\n",
      " processing epoch 83\n",
      " processing epoch 84\n",
      " processing epoch 85\n",
      " processing epoch 86\n",
      " processing epoch 87\n",
      " processing epoch 88\n",
      " processing epoch 89\n",
      " processing epoch 90\n",
      " processing epoch 91\n",
      " processing epoch 92\n",
      " processing epoch 93\n",
      " processing epoch 94\n",
      " processing epoch 0\n",
      " processing epoch 1\n",
      " processing epoch 2\n",
      " processing epoch 3\n",
      " processing epoch 4\n",
      " processing epoch 5\n",
      " processing epoch 6\n",
      " processing epoch 7\n",
      " processing epoch 8\n",
      " processing epoch 9\n",
      " processing epoch 10\n",
      " processing epoch 11\n",
      " processing epoch 12\n",
      " processing epoch 13\n",
      " processing epoch 14\n",
      " processing epoch 15\n",
      " processing epoch 16\n",
      " processing epoch 17\n",
      " processing epoch 18\n",
      " processing epoch 19\n",
      " processing epoch 20\n",
      " processing epoch 21\n",
      " processing epoch 22\n",
      " processing epoch 23\n",
      " processing epoch 24\n",
      " processing epoch 25\n",
      " processing epoch 26\n",
      " processing epoch 27\n",
      " processing epoch 28\n",
      " processing epoch 29\n",
      " processing epoch 30\n",
      " processing epoch 31\n",
      " processing epoch 32\n",
      " processing epoch 33\n",
      " processing epoch 34\n",
      " processing epoch 35\n",
      " processing epoch 36\n",
      " processing epoch 37\n",
      " processing epoch 38\n",
      " processing epoch 39\n",
      " processing epoch 40\n",
      " processing epoch 41\n",
      " processing epoch 42\n",
      " processing epoch 43\n",
      " processing epoch 44\n",
      " processing epoch 45\n",
      " processing epoch 46\n",
      " processing epoch 47\n",
      " processing epoch 48\n",
      " processing epoch 49\n",
      " processing epoch 50\n",
      " processing epoch 51\n",
      " processing epoch 52\n",
      " processing epoch 53\n",
      " processing epoch 54\n",
      " processing epoch 55\n",
      " processing epoch 56\n",
      " processing epoch 57\n",
      " processing epoch 58\n",
      " processing epoch 59\n",
      " processing epoch 60\n",
      " processing epoch 61\n",
      " processing epoch 62\n",
      " processing epoch 63\n",
      " processing epoch 64\n",
      " processing epoch 65\n",
      " processing epoch 66\n",
      " processing epoch 67\n",
      " processing epoch 68\n",
      " processing epoch 69\n",
      " processing epoch 70\n",
      " processing epoch 71\n",
      " processing epoch 72\n",
      " processing epoch 73\n",
      " processing epoch 74\n",
      " processing epoch 75\n",
      " processing epoch 76\n",
      " processing epoch 77\n",
      " processing epoch 78\n",
      " processing epoch 79\n",
      " processing epoch 80\n",
      " processing epoch 81\n",
      " processing epoch 82\n",
      " processing epoch 83\n",
      " processing epoch 84\n",
      " processing epoch 85\n",
      " processing epoch 86\n",
      " processing epoch 87\n",
      " processing epoch 88\n",
      " processing epoch 89\n",
      " processing epoch 90\n",
      " processing epoch 91\n",
      " processing epoch 92\n",
      " processing epoch 93\n",
      " processing epoch 94\n",
      " processing epoch 0\n",
      " processing epoch 1\n",
      " processing epoch 2\n",
      " processing epoch 3\n",
      " processing epoch 4\n",
      " processing epoch 5\n",
      " processing epoch 6\n",
      " processing epoch 7\n",
      " processing epoch 8\n",
      " processing epoch 9\n",
      " processing epoch 10\n",
      " processing epoch 11\n",
      " processing epoch 12\n",
      " processing epoch 13\n",
      " processing epoch 14\n",
      " processing epoch 15\n",
      " processing epoch 16\n",
      " processing epoch 17\n",
      " processing epoch 18\n",
      " processing epoch 19\n",
      " processing epoch 20\n",
      " processing epoch 21\n",
      " processing epoch 22\n",
      " processing epoch 23\n",
      " processing epoch 24\n",
      " processing epoch 25\n",
      " processing epoch 26\n",
      " processing epoch 27\n",
      " processing epoch 28\n",
      " processing epoch 29\n",
      " processing epoch 30\n",
      " processing epoch 31\n",
      " processing epoch 32\n",
      " processing epoch 33\n",
      " processing epoch 34\n",
      " processing epoch 35\n",
      " processing epoch 36\n",
      " processing epoch 37\n",
      " processing epoch 38\n",
      " processing epoch 39\n",
      " processing epoch 40\n",
      " processing epoch 41\n",
      " processing epoch 42\n",
      " processing epoch 43\n",
      " processing epoch 44\n",
      " processing epoch 45\n",
      " processing epoch 46\n",
      " processing epoch 47\n",
      " processing epoch 48\n",
      " processing epoch 49\n",
      " processing epoch 50\n",
      " processing epoch 51\n",
      " processing epoch 52\n",
      " processing epoch 53\n",
      " processing epoch 54\n",
      " processing epoch 55\n",
      " processing epoch 56\n",
      " processing epoch 57\n",
      " processing epoch 58\n",
      " processing epoch 59\n",
      " processing epoch 60\n",
      " processing epoch 61\n",
      " processing epoch 62\n",
      " processing epoch 63\n",
      " processing epoch 64\n",
      " processing epoch 65\n",
      " processing epoch 66\n",
      " processing epoch 67\n",
      " processing epoch 68\n",
      " processing epoch 69\n",
      " processing epoch 70\n",
      " processing epoch 71\n",
      " processing epoch 72\n",
      " processing epoch 73\n",
      " processing epoch 74\n",
      " processing epoch 75\n",
      " processing epoch 76\n",
      " processing epoch 77\n",
      " processing epoch 78\n",
      " processing epoch 79\n",
      " processing epoch 80\n",
      " processing epoch 81\n",
      " processing epoch 82\n",
      " processing epoch 83\n",
      " processing epoch 84\n",
      " processing epoch 85\n",
      " processing epoch 86\n",
      " processing epoch 87\n",
      " processing epoch 88\n",
      " processing epoch 89\n",
      " processing epoch 90\n",
      " processing epoch 91\n",
      " processing epoch 92\n",
      " processing epoch 93\n",
      " processing epoch 94\n",
      " processing epoch 0\n",
      " processing epoch 1\n",
      " processing epoch 2\n",
      " processing epoch 3\n",
      " processing epoch 4\n",
      " processing epoch 5\n",
      " processing epoch 6\n",
      " processing epoch 7\n",
      " processing epoch 8\n",
      " processing epoch 9\n",
      " processing epoch 10\n",
      " processing epoch 11\n",
      " processing epoch 12\n",
      " processing epoch 13\n",
      " processing epoch 14\n",
      " processing epoch 15\n",
      " processing epoch 16\n",
      " processing epoch 17\n",
      " processing epoch 18\n",
      " processing epoch 19\n",
      " processing epoch 20\n",
      " processing epoch 21\n",
      " processing epoch 22\n",
      " processing epoch 23\n",
      " processing epoch 24\n",
      " processing epoch 25\n",
      " processing epoch 26\n",
      " processing epoch 27\n",
      " processing epoch 28\n",
      " processing epoch 29\n",
      " processing epoch 30\n",
      " processing epoch 31\n",
      " processing epoch 32\n",
      " processing epoch 33\n",
      " processing epoch 34\n",
      " processing epoch 35\n",
      " processing epoch 36\n",
      " processing epoch 37\n",
      " processing epoch 38\n",
      " processing epoch 39\n",
      " processing epoch 40\n",
      " processing epoch 41\n",
      " processing epoch 42\n",
      " processing epoch 43\n",
      " processing epoch 44\n",
      " processing epoch 45\n",
      " processing epoch 46\n",
      " processing epoch 47\n",
      " processing epoch 48\n",
      " processing epoch 49\n",
      " processing epoch 50\n",
      " processing epoch 51\n",
      " processing epoch 52\n",
      " processing epoch 53\n",
      " processing epoch 54\n",
      " processing epoch 55\n",
      " processing epoch 56\n",
      " processing epoch 57\n",
      " processing epoch 58\n",
      " processing epoch 59\n",
      " processing epoch 60\n",
      " processing epoch 61\n",
      " processing epoch 62\n",
      " processing epoch 63\n",
      " processing epoch 64\n",
      " processing epoch 65\n",
      " processing epoch 66\n",
      " processing epoch 67\n",
      " processing epoch 68\n",
      " processing epoch 69\n",
      " processing epoch 70\n",
      " processing epoch 71\n",
      " processing epoch 72\n",
      " processing epoch 73\n",
      " processing epoch 74\n",
      " processing epoch 75\n",
      " processing epoch 76\n",
      " processing epoch 77\n",
      " processing epoch 78\n",
      " processing epoch 79\n",
      " processing epoch 80\n",
      " processing epoch 81\n",
      " processing epoch 82\n",
      " processing epoch 83\n",
      " processing epoch 84\n",
      " processing epoch 85\n",
      " processing epoch 86\n",
      " processing epoch 87\n",
      " processing epoch 88\n",
      " processing epoch 89\n",
      " processing epoch 90\n",
      " processing epoch 91\n",
      " processing epoch 92\n",
      " processing epoch 93\n",
      " processing epoch 94\n",
      "0.8771613742708008\n",
      "{'n_epochs': 95, 'lr_all': 0.006, 'reg_all': 0.4, 'verbose': True}\n"
     ]
    }
   ],
   "source": [
    "param_grid = {\"n_epochs\": [95], \"lr_all\": [0.006], \"reg_all\": [0.4],  \"verbose\": [True]}\n",
    "gs3 = GridSearchCV(SVDpp, param_grid, measures=[\"rmse\"], cv=5)\n",
    "\n",
    "gs3.fit(data)\n",
    "\n",
    "# best RMSE score\n",
    "print(gs3.best_score[\"rmse\"])\n",
    "\n",
    "# combination of parameters that gave the best RMSE score\n",
    "print(gs3.best_params[\"rmse\"])"
   ]
  },
  {
   "cell_type": "code",
   "execution_count": 103,
   "metadata": {},
   "outputs": [
    {
     "data": {
      "text/plain": [
       "{'SVDpp': 0.8631228176464131,\n",
       " 'KNNBaseline': 0.874301593874022,\n",
       " 'SVD': 0.8724466491164524}"
      ]
     },
     "execution_count": 103,
     "metadata": {},
     "output_type": "execute_result"
    }
   ],
   "source": [
    "results"
   ]
  },
  {
   "attachments": {},
   "cell_type": "markdown",
   "metadata": {},
   "source": [
    "Улучшить модель путем подбора гиперпааметров не удалось, лучше всего работают параметры по умолчанию\n",
    "Таким образом, наибольшую эффективность показал алгоритм SVDpp с параметрами по умолчанию"
   ]
  }
 ],
 "metadata": {
  "kernelspec": {
   "display_name": "Python 3",
   "language": "python",
   "name": "python3"
  },
  "language_info": {
   "codemirror_mode": {
    "name": "ipython",
    "version": 3
   },
   "file_extension": ".py",
   "mimetype": "text/x-python",
   "name": "python",
   "nbconvert_exporter": "python",
   "pygments_lexer": "ipython3",
   "version": "3.11.3"
  },
  "orig_nbformat": 4
 },
 "nbformat": 4,
 "nbformat_minor": 2
}
